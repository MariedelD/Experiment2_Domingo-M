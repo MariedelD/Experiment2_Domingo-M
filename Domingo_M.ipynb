{
 "cells": [
  {
   "cell_type": "code",
   "execution_count": 5,
   "id": "b6063ccc-49ce-4348-89f0-3f39aa5149f8",
   "metadata": {},
   "outputs": [
    {
     "name": "stdout",
     "output_type": "stream",
     "text": [
      "The Matrix: \n",
      "\n",
      " [[0.31783128 0.29394411 0.69932928 0.77767679 0.82170059]\n",
      " [0.28591658 0.74850825 0.99837244 0.02353716 0.18131792]\n",
      " [0.52305219 0.55459884 0.54837165 0.4786005  0.78330711]\n",
      " [0.85934847 0.26129106 0.70691917 0.12942512 0.38913994]\n",
      " [0.69660188 0.78160889 0.70038664 0.56576744 0.27938811]]\n",
      "\n",
      "The Mean: 0.5362376561867148\n",
      "The Standard Deviation: 0.2548650330452457\n",
      "\n",
      " The Normalized Values: \n",
      " [[-0.85694916 -0.95067395  0.63991371  0.94732153  1.12005533]\n",
      " [-0.98217114  0.83287451  1.81325299 -2.01165491 -1.39257916]\n",
      " [-0.05173509  0.07204278  0.04760948 -0.22614776  0.96941291]\n",
      " [ 1.26777222 -1.07879292  0.66969371 -1.59618811 -0.57715928]\n",
      " [ 0.62921235  0.96274969  0.6440624   0.11586439 -1.00778652]]\n"
     ]
    }
   ],
   "source": [
    "#Problem 1: Normalization\n",
    "\n",
    "#Import the convention to access the NumPy Library\n",
    "import numpy as np\n",
    "\n",
    "#create an array of m x n random values \n",
    "x= np.random. random([5,5])\n",
    "\n",
    "#This function will calculate the normalized values\n",
    "X_normalized = (x-x.mean()) / x.std()\n",
    "\n",
    "#Save the normalized array\n",
    "np.save('X_normalized.npy', X_normalized)\n",
    "\n",
    "#The following functions will display the matrix, calculate the mean and standard deviation, and show the normalized values \n",
    "print (\"The Matrix: \\n\\n\", x)\n",
    "print (\"\\nThe Mean:\", x.mean ())\n",
    "print (\"The Standard Deviation:\", x.std())\n",
    "print (\"\\n The Normalized Values: \\n\", X_normalized)"
   ]
  },
  {
   "cell_type": "code",
   "execution_count": 8,
   "id": "5dd09cb8-9036-4aa9-b02f-6091f6f4257e",
   "metadata": {},
   "outputs": [
    {
     "name": "stdout",
     "output_type": "stream",
     "text": [
      "The Original Array: In\n",
      " [[    1     4     9    16    25    36    49    64    81   100]\n",
      " [  121   144   169   196   225   256   289   324   361   400]\n",
      " [  441   484   529   576   625   676   729   784   841   900]\n",
      " [  961  1024  1089  1156  1225  1296  1369  1444  1521  1600]\n",
      " [ 1681  1764  1849  1936  2025  2116  2209  2304  2401  2500]\n",
      " [ 2601  2704  2809  2916  3025  3136  3249  3364  3481  3600]\n",
      " [ 3721  3844  3969  4096  4225  4356  4489  4624  4761  4900]\n",
      " [ 5041  5184  5329  5476  5625  5776  5929  6084  6241  6400]\n",
      " [ 6561  6724  6889  7056  7225  7396  7569  7744  7921  8100]\n",
      " [ 8281  8464  8649  8836  9025  9216  9409  9604  9801 10000]]\n",
      "\n",
      "The values that are divisible by 3: In\n",
      " [   9   36   81  144  225  324  441  576  729  900 1089 1296 1521 1764\n",
      " 2025 2304 2601 2916 3249 3600 3969 4356 4761 5184 5625 6084 6561 7056\n",
      " 7569 8100 8649 9216 9801]\n"
     ]
    }
   ],
   "source": [
    "#Problem 2: Divisble by 3\n",
    "\n",
    "#Import the convention to access the NumPy Library import numpy as np\n",
    "\n",
    "#This function creates ndarrays withing a specific range\n",
    "A = np.arange (1, 101) **2\n",
    "\n",
    "#Reshape into 10x10 arrays\n",
    "A = A. reshape (10, 10)\n",
    "\n",
    "#This function will filter the elements that are divisible by 3\n",
    "div_by_3 = A[A % 3 == 0]\n",
    "\n",
    "#Save the the result as div_by_3.npy np.save('div_by_3.npy', div_by_3)\n",
    "\n",
    "#Display the original array and the filtered result \n",
    "print (\"The Original Array: In\\n\", A)\n",
    "print (\"\\nThe values that are divisible by 3: In\\n\", div_by_3)"
   ]
  },
  {
   "cell_type": "code",
   "execution_count": null,
   "id": "6a134ab0-4ba0-4a88-b00a-011d8689d4d2",
   "metadata": {},
   "outputs": [],
   "source": []
  }
 ],
 "metadata": {
  "kernelspec": {
   "display_name": "anaconda-2024.02-py310",
   "language": "python",
   "name": "conda-env-anaconda-2024.02-py310-py"
  },
  "language_info": {
   "codemirror_mode": {
    "name": "ipython",
    "version": 3
   },
   "file_extension": ".py",
   "mimetype": "text/x-python",
   "name": "python",
   "nbconvert_exporter": "python",
   "pygments_lexer": "ipython3",
   "version": "3.10.14"
  }
 },
 "nbformat": 4,
 "nbformat_minor": 5
}
